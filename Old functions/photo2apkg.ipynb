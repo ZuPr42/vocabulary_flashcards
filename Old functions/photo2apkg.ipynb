{
 "cells": [
  {
   "cell_type": "code",
   "execution_count": 5,
   "metadata": {},
   "outputs": [],
   "source": [
    "#!/Users/florian/anaconda3/bin/python\n",
    "import bs4\n",
    "import requests\n",
    "import genanki\n",
    "import sys\n",
    "import PyPDF2\n",
    "import pandas as pd\n",
    "import pytesseract\n",
    "from PIL import Image\n",
    "from googletrans import Translator\n",
    "import re\n"
   ]
  },
  {
   "cell_type": "code",
   "execution_count": 13,
   "metadata": {},
   "outputs": [],
   "source": [
    "#Function to translate to english\n",
    "def translate(words):\n",
    "    try:\n",
    "        translator = Translator()\n",
    "        translate_list = []\n",
    "        trans = translator.translate(words, dest = 'en') \n",
    "        for translation in trans:\n",
    "            translate_list.append(translation.text)\n",
    "        return translate_list\n",
    "    except:\n",
    "        return None\n"
   ]
  },
  {
   "cell_type": "code",
   "execution_count": 15,
   "metadata": {},
   "outputs": [
    {
     "name": "stdout",
     "output_type": "stream",
     "text": [
      "                            German                              English\n",
      "0                      Wörterliste                            Word list\n",
      "1            Großvater,  Großväter            Grandfather, grandfathers\n",
      "2                   Grund,  Gründe                      Reason, reasons\n",
      "3             gründen, er gründet,                   found, he founded,\n",
      "4                 er hat gegründet                           he founded\n",
      "..                             ...                                  ...\n",
      "101   Intensivkurs,  Intensivkurse  Intensive course, intensive courses\n",
      "102                             nn                                   nn\n",
      "103                            u |                                  u |\n",
      "104                             la                                  the\n",
      "105                              b                                    b\n",
      "\n",
      "[106 rows x 2 columns]\n"
     ]
    }
   ],
   "source": [
    "# Open the image file\n",
    "image = Image.open('test.jpg')\n",
    "pytesseract.pytesseract.tesseract_cmd = r'C:\\Program Files\\Tesseract-OCR\\tesseract.exe'\n",
    "# Perform OCR using PyTesseract\n",
    "text = pytesseract.image_to_string(image, lang='deu')\n",
    "pattern = r'\\d+|/|\\.b|\\.a|\\.c|\\.|Start|der|die|das'\n",
    "text = re.sub(pattern, '', text)\n",
    "# Text uprava\n",
    "text_list = text.splitlines()\n",
    "#zbavit se prazdnych stringu\n",
    "text_ohneempty = [i for i in text_list if len(i)>=2]\n",
    "#zbavit se stringu s cisly\n",
    "\n",
    "text_final = pd.DataFrame(text_ohneempty)\n",
    "text_final.columns = ['German']\n",
    "\n",
    "# Print the extracted text\n",
    "# print(text_final)\n",
    "\n",
    "text_final['English'] = translate(text_final['German'].tolist())\n",
    "print(text_final)\n"
   ]
  },
  {
   "cell_type": "code",
   "execution_count": 19,
   "metadata": {},
   "outputs": [
    {
     "ename": "TypeError",
     "evalue": "expected string or bytes-like object, got 'NoneType'",
     "output_type": "error",
     "traceback": [
      "\u001b[1;31m---------------------------------------------------------------------------\u001b[0m",
      "\u001b[1;31mTypeError\u001b[0m                                 Traceback (most recent call last)",
      "Cell \u001b[1;32mIn[19], line 36\u001b[0m\n\u001b[0;32m     31\u001b[0m \u001b[38;5;28;01mfor\u001b[39;00m i \u001b[38;5;129;01min\u001b[39;00m items:\n\u001b[0;32m     32\u001b[0m     my_deck\u001b[38;5;241m.\u001b[39madd_note(genanki\u001b[38;5;241m.\u001b[39mNote(\n\u001b[0;32m     33\u001b[0m         model\u001b[38;5;241m=\u001b[39mmy_model,\n\u001b[0;32m     34\u001b[0m         fields\u001b[38;5;241m=\u001b[39mi))\n\u001b[1;32m---> 36\u001b[0m genanki\u001b[38;5;241m.\u001b[39mPackage(my_deck)\u001b[38;5;241m.\u001b[39mwrite_to_file(\u001b[38;5;124m'\u001b[39m\u001b[38;5;124moutput.apkg\u001b[39m\u001b[38;5;124m'\u001b[39m)\n",
      "File \u001b[1;32mc:\\Users\\ASUS\\anaconda3\\Lib\\site-packages\\genanki\\package.py:40\u001b[0m, in \u001b[0;36mPackage.write_to_file\u001b[1;34m(self, file, timestamp)\u001b[0m\n\u001b[0;32m     37\u001b[0m   timestamp \u001b[38;5;241m=\u001b[39m time\u001b[38;5;241m.\u001b[39mtime()\n\u001b[0;32m     39\u001b[0m id_gen \u001b[38;5;241m=\u001b[39m itertools\u001b[38;5;241m.\u001b[39mcount(\u001b[38;5;28mint\u001b[39m(timestamp \u001b[38;5;241m*\u001b[39m \u001b[38;5;241m1000\u001b[39m))\n\u001b[1;32m---> 40\u001b[0m \u001b[38;5;28mself\u001b[39m\u001b[38;5;241m.\u001b[39mwrite_to_db(cursor, timestamp, id_gen)\n\u001b[0;32m     42\u001b[0m conn\u001b[38;5;241m.\u001b[39mcommit()\n\u001b[0;32m     43\u001b[0m conn\u001b[38;5;241m.\u001b[39mclose()\n",
      "File \u001b[1;32mc:\\Users\\ASUS\\anaconda3\\Lib\\site-packages\\genanki\\package.py:60\u001b[0m, in \u001b[0;36mPackage.write_to_db\u001b[1;34m(self, cursor, timestamp, id_gen)\u001b[0m\n\u001b[0;32m     57\u001b[0m cursor\u001b[38;5;241m.\u001b[39mexecutescript(APKG_COL)\n\u001b[0;32m     59\u001b[0m \u001b[38;5;28;01mfor\u001b[39;00m deck \u001b[38;5;129;01min\u001b[39;00m \u001b[38;5;28mself\u001b[39m\u001b[38;5;241m.\u001b[39mdecks:\n\u001b[1;32m---> 60\u001b[0m   deck\u001b[38;5;241m.\u001b[39mwrite_to_db(cursor, timestamp, id_gen)\n",
      "File \u001b[1;32mc:\\Users\\ASUS\\anaconda3\\Lib\\site-packages\\genanki\\deck.py:67\u001b[0m, in \u001b[0;36mDeck.write_to_db\u001b[1;34m(self, cursor, timestamp, id_gen)\u001b[0m\n\u001b[0;32m     64\u001b[0m cursor\u001b[38;5;241m.\u001b[39mexecute(\u001b[38;5;124m'\u001b[39m\u001b[38;5;124mUPDATE col SET models = ?\u001b[39m\u001b[38;5;124m'\u001b[39m, (json\u001b[38;5;241m.\u001b[39mdumps(models),))\n\u001b[0;32m     66\u001b[0m \u001b[38;5;28;01mfor\u001b[39;00m note \u001b[38;5;129;01min\u001b[39;00m \u001b[38;5;28mself\u001b[39m\u001b[38;5;241m.\u001b[39mnotes:\n\u001b[1;32m---> 67\u001b[0m   note\u001b[38;5;241m.\u001b[39mwrite_to_db(cursor, timestamp, \u001b[38;5;28mself\u001b[39m\u001b[38;5;241m.\u001b[39mdeck_id, id_gen)\n",
      "File \u001b[1;32mc:\\Users\\ASUS\\anaconda3\\Lib\\site-packages\\genanki\\note.py:154\u001b[0m, in \u001b[0;36mNote.write_to_db\u001b[1;34m(self, cursor, timestamp, deck_id, id_gen)\u001b[0m\n\u001b[0;32m    152\u001b[0m \u001b[38;5;28mself\u001b[39m\u001b[38;5;241m.\u001b[39mfields \u001b[38;5;241m=\u001b[39m _fix_deprecated_builtin_models_and_warn(\u001b[38;5;28mself\u001b[39m\u001b[38;5;241m.\u001b[39mmodel, \u001b[38;5;28mself\u001b[39m\u001b[38;5;241m.\u001b[39mfields)\n\u001b[0;32m    153\u001b[0m \u001b[38;5;28mself\u001b[39m\u001b[38;5;241m.\u001b[39m_check_number_model_fields_matches_num_fields()\n\u001b[1;32m--> 154\u001b[0m \u001b[38;5;28mself\u001b[39m\u001b[38;5;241m.\u001b[39m_check_invalid_html_tags_in_fields()\n\u001b[0;32m    155\u001b[0m cursor\u001b[38;5;241m.\u001b[39mexecute(\u001b[38;5;124m'\u001b[39m\u001b[38;5;124mINSERT INTO notes VALUES(?,?,?,?,?,?,?,?,?,?,?);\u001b[39m\u001b[38;5;124m'\u001b[39m, (\n\u001b[0;32m    156\u001b[0m     \u001b[38;5;28mnext\u001b[39m(id_gen),                 \u001b[38;5;66;03m# id\u001b[39;00m\n\u001b[0;32m    157\u001b[0m     \u001b[38;5;28mself\u001b[39m\u001b[38;5;241m.\u001b[39mguid,                    \u001b[38;5;66;03m# guid\u001b[39;00m\n\u001b[1;32m   (...)\u001b[0m\n\u001b[0;32m    166\u001b[0m     \u001b[38;5;124m'\u001b[39m\u001b[38;5;124m'\u001b[39m,                           \u001b[38;5;66;03m# data\u001b[39;00m\n\u001b[0;32m    167\u001b[0m ))\n\u001b[0;32m    169\u001b[0m note_id \u001b[38;5;241m=\u001b[39m cursor\u001b[38;5;241m.\u001b[39mlastrowid\n",
      "File \u001b[1;32mc:\\Users\\ASUS\\anaconda3\\Lib\\site-packages\\genanki\\note.py:140\u001b[0m, in \u001b[0;36mNote._check_invalid_html_tags_in_fields\u001b[1;34m(self)\u001b[0m\n\u001b[0;32m    138\u001b[0m \u001b[38;5;28;01mdef\u001b[39;00m \u001b[38;5;21m_check_invalid_html_tags_in_fields\u001b[39m(\u001b[38;5;28mself\u001b[39m):\n\u001b[0;32m    139\u001b[0m   \u001b[38;5;28;01mfor\u001b[39;00m idx, field \u001b[38;5;129;01min\u001b[39;00m \u001b[38;5;28menumerate\u001b[39m(\u001b[38;5;28mself\u001b[39m\u001b[38;5;241m.\u001b[39mfields):\n\u001b[1;32m--> 140\u001b[0m     invalid_tags \u001b[38;5;241m=\u001b[39m \u001b[38;5;28mself\u001b[39m\u001b[38;5;241m.\u001b[39m_find_invalid_html_tags_in_field(field)\n\u001b[0;32m    141\u001b[0m     \u001b[38;5;28;01mif\u001b[39;00m invalid_tags:\n\u001b[0;32m    142\u001b[0m       \u001b[38;5;66;03m# You can disable the below warning by calling warnings.filterwarnings:\u001b[39;00m\n\u001b[0;32m    143\u001b[0m       \u001b[38;5;66;03m#\u001b[39;00m\n\u001b[1;32m   (...)\u001b[0m\n\u001b[0;32m    146\u001b[0m       \u001b[38;5;66;03m# If you think you're getting a false positive for this warning, please file an issue at\u001b[39;00m\n\u001b[0;32m    147\u001b[0m       \u001b[38;5;66;03m# https://github.com/kerrickstaley/genanki/issues\u001b[39;00m\n\u001b[0;32m    148\u001b[0m       warnings\u001b[38;5;241m.\u001b[39mwarn(\u001b[38;5;124m\"\u001b[39m\u001b[38;5;124mField contained the following invalid HTML tags. Make sure you are calling html.escape() if\u001b[39m\u001b[38;5;124m\"\u001b[39m\n\u001b[0;32m    149\u001b[0m                     \u001b[38;5;124m\"\u001b[39m\u001b[38;5;124m your field data isn\u001b[39m\u001b[38;5;124m'\u001b[39m\u001b[38;5;124mt already HTML-encoded: \u001b[39m\u001b[38;5;132;01m{}\u001b[39;00m\u001b[38;5;124m\"\u001b[39m\u001b[38;5;241m.\u001b[39mformat(\u001b[38;5;124m'\u001b[39m\u001b[38;5;124m \u001b[39m\u001b[38;5;124m'\u001b[39m\u001b[38;5;241m.\u001b[39mjoin(invalid_tags)))\n",
      "File \u001b[1;32mc:\\Users\\ASUS\\anaconda3\\Lib\\site-packages\\genanki\\note.py:136\u001b[0m, in \u001b[0;36mNote._find_invalid_html_tags_in_field\u001b[1;34m(cls, field)\u001b[0m\n\u001b[0;32m    134\u001b[0m \u001b[38;5;129m@classmethod\u001b[39m\n\u001b[0;32m    135\u001b[0m \u001b[38;5;28;01mdef\u001b[39;00m \u001b[38;5;21m_find_invalid_html_tags_in_field\u001b[39m(\u001b[38;5;28mcls\u001b[39m, field):\n\u001b[1;32m--> 136\u001b[0m   \u001b[38;5;28;01mreturn\u001b[39;00m \u001b[38;5;28mcls\u001b[39m\u001b[38;5;241m.\u001b[39m_INVALID_HTML_TAG_RE\u001b[38;5;241m.\u001b[39mfindall(field)\n",
      "\u001b[1;31mTypeError\u001b[0m: expected string or bytes-like object, got 'NoneType'"
     ]
    }
   ],
   "source": [
    "#display(text_final)\n",
    "items = []\n",
    "\n",
    "for index, row in text_final.iterrows():\n",
    "    german = row['German']\n",
    "    english = row['English']\n",
    "    items.append((german, english))\n",
    "\n",
    "my_model = genanki.Model(\n",
    "  1607392319,\n",
    "  'Simple Model',\n",
    "  fields=[\n",
    "    {'name': 'german'},\n",
    "    {'name': 'english'},\n",
    "  ],\n",
    "  templates=[\n",
    "      {\n",
    "          'name': 'Forward Card',\n",
    "          'qfmt': '{{german}}',\n",
    "          'afmt': '{{FrontSide}}<hr id=\"answer\">{{english}}',\n",
    "      },\n",
    "      {\n",
    "          'name': 'Reverse Card',\n",
    "          'qfmt': '{{english}}',\n",
    "          'afmt': '{{FrontSide}}<hr>{{german}}'\n",
    "      }\n",
    "  ])\n",
    "\n",
    "my_deck = genanki.Deck(2059400110, \"MH Booklet 1\")\n",
    "\n",
    "for i in items:\n",
    "    my_deck.add_note(genanki.Note(\n",
    "        model=my_model,\n",
    "        fields=i))\n",
    "\n",
    "genanki.Package(my_deck).write_to_file('output.apkg')\n",
    "    "
   ]
  }
 ],
 "metadata": {
  "kernelspec": {
   "display_name": "base",
   "language": "python",
   "name": "python3"
  },
  "language_info": {
   "codemirror_mode": {
    "name": "ipython",
    "version": 3
   },
   "file_extension": ".py",
   "mimetype": "text/x-python",
   "name": "python",
   "nbconvert_exporter": "python",
   "pygments_lexer": "ipython3",
   "version": "3.11.5"
  }
 },
 "nbformat": 4,
 "nbformat_minor": 2
}

{
 "cells": [
  {
   "cell_type": "code",
   "execution_count": null,
   "metadata": {},
   "outputs": [],
   "source": [
    "#!/Users/florian/anaconda3/bin/python\n",
    "import bs4\n",
    "import requests\n",
    "import genanki\n",
    "import sys\n",
    "import PyPDF2\n",
    "import pandas as pd\n",
    "import pytesseract\n",
    "from PIL import Image\n",
    "from googletrans import Translator\n",
    "import re\n"
   ]
  },
  {
   "cell_type": "code",
   "execution_count": null,
   "metadata": {},
   "outputs": [],
   "source": [
    "#Function to translate to english\n",
    "def translate(x):\n",
    "    try:\n",
    "        translator = Translator()\n",
    "        trans = translator.translate(x, dest = 'en')\n",
    "        return trans.text\n",
    "    except:\n",
    "        return None\n"
   ]
  },
  {
   "cell_type": "code",
   "execution_count": null,
   "metadata": {},
   "outputs": [],
   "source": [
    "# Open the image file\n",
    "image = Image.open('test vocabulary 2_1.jpg')\n",
    "pytesseract.pytesseract.tesseract_cmd = r'C:\\Program Files\\Tesseract-OCR\\tesseract.exe'\n",
    "# Perform OCR using PyTesseract\n",
    "text = pytesseract.image_to_string(image, lang='deu')\n",
    "pattern = r'\\d+|/|\\.b|\\.a|\\.c|\\.|Start|der|die|das'\n",
    "text = re.sub(pattern, '', text)\n",
    "# Text uprava\n",
    "text_list = text.splitlines()\n",
    "#zbavit se prazdnych stringu\n",
    "text_ohneempty = [i for i in text_list if len(i)>=2]\n",
    "#zbavit se stringu s cisly\n",
    "\n",
    "text_final = pd.DataFrame(text_ohneempty)\n",
    "text_final.columns = ['German']\n",
    "\n",
    "# Print the extracted text\n",
    "# print(text_final)\n",
    "\n",
    "text_final['English'] = text_final['German'].apply(lambda x: translate(x))\n",
    "#print(text_final)\n",
    "#display(text_final)\n",
    "items = []\n",
    "\n",
    "for index, row in text_final.iterrows():\n",
    "    german = row['German']\n",
    "    english = row['English']\n",
    "    items.append((german, english))\n",
    "\n",
    "my_model = genanki.Model(\n",
    "  1607392319,\n",
    "  'Simple Model',\n",
    "  fields=[\n",
    "    {'name': 'german'},\n",
    "    {'name': 'english'},\n",
    "  ],\n",
    "  templates=[\n",
    "      {\n",
    "          'name': 'Forward Card',\n",
    "          'qfmt': '{{german}}',\n",
    "          'afmt': '{{FrontSide}}<hr id=\"answer\">{{english}}',\n",
    "      },\n",
    "      {\n",
    "          'name': 'Reverse Card',\n",
    "          'qfmt': '{{english}}',\n",
    "          'afmt': '{{FrontSide}}<hr>{{german}}'\n",
    "      }\n",
    "  ])\n",
    "\n",
    "my_deck = genanki.Deck(2059400110, \"MH Booklet 1\")\n",
    "\n",
    "for i in items:\n",
    "    my_deck.add_note(genanki.Note(\n",
    "        model=my_model,\n",
    "        fields=i))\n",
    "\n",
    "genanki.Package(my_deck).write_to_file('output.apkg')\n",
    "    "
   ]
  }
 ],
 "metadata": {
  "kernelspec": {
   "display_name": "base",
   "language": "python",
   "name": "python3"
  },
  "language_info": {
   "codemirror_mode": {
    "name": "ipython",
    "version": 3
   },
   "file_extension": ".py",
   "mimetype": "text/x-python",
   "name": "python",
   "nbconvert_exporter": "python",
   "pygments_lexer": "ipython3",
   "version": "3.11.5"
  }
 },
 "nbformat": 4,
 "nbformat_minor": 2
}

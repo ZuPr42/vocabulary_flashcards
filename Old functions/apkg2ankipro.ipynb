{
 "cells": [
  {
   "cell_type": "code",
   "execution_count": 9,
   "metadata": {},
   "outputs": [],
   "source": [
    "#first you need to install selenium and the webdrivers of the respective browser you are using..\n",
    "from selenium import webdriver\n",
    "from selenium.webdriver.common.by import By\n",
    "from selenium.webdriver.support.ui import WebDriverWait\n",
    "from selenium.webdriver.support import expected_conditions as expected_conditions\n",
    "import pyautogui\n",
    "import time\n",
    "from pynput.keyboard import Key, Controller\n"
   ]
  },
  {
   "cell_type": "code",
   "execution_count": null,
   "metadata": {},
   "outputs": [],
   "source": [
    "#network auto-login bot\n",
    "login_id ='zachorp@gmail.com' #enter you login id here\n",
    "login_pass ='Lissi203' #enter your password\n"
   ]
  },
  {
   "cell_type": "code",
   "execution_count": null,
   "metadata": {},
   "outputs": [],
   "source": [
    "browser = webdriver.Chrome()#choose any other webdriver depending on which  browser you have, here chrome is used.\n",
    "browser.get((\"https://ankipro.net/sign-in\"))#link of the site\n",
    "\n",
    "xpath_username = '//*[@id=\"__next\"]/div[1]/div/div/div[2]/div/div[2]/div[1]/div[2]/input'\n",
    "username = browser.find_element(By.XPATH, xpath_username)#login_id_value is the id of the text field in which id is to be entered.\n",
    "username.send_keys(login_id)\n",
    "\n",
    "xpath_login = '//*[@id=\"__next\"]/div[1]/div/div/div[2]/div/div[2]/div[2]/div[2]/input'\n",
    "username = browser.find_element(By.XPATH, xpath_login)#login_id_value is the id of the text field in which id is to be entered.\n",
    "username.send_keys(login_pass)\n",
    "\n",
    "xpath_button = '//*[@id=\"__next\"]/div[1]/div/div/div[2]/div/div[4]/div/div/div/div/div' \n",
    "signInButton = browser.find_element(By.XPATH, xpath_button)\n",
    "signInButton.click()\n",
    "time.sleep(3)\n",
    "xpath_newdeckbutton = '//*[@id=\"__next\"]/div[1]/div/div/div/div[1]/div[2]/div/div/div/div/div'\n",
    "newdeckbutton = browser.find_element(By.XPATH, xpath_newdeckbutton)\n",
    "newdeckbutton.click()\n",
    "time.sleep(3)\n",
    "xpath_uploaddeckbutton = '/html/body/div[7]/div/div[2]/div/div/div[2]/div[2]/div[2]/div/div[2]/div[1]/div[1]/button[2]/div/div'\n",
    "uploaddeckbutton = browser.find_element(By.XPATH, xpath_uploaddeckbutton)\n",
    "uploaddeckbutton.click()\n",
    "xpath_uploadfile =  '/html/body/div[7]/div/div[2]/div/div/div[2]/div[2]/div[2]/div/div[2]/div[3]/div/div'\n",
    "browser.find_element(By.XPATH, xpath_uploadfile).click()\n",
    "time.sleep(3)\n",
    "\n",
    "keyboard = Controller()\n",
    "keyboard.type('C:\\\\Users\\\\ASUS\\\\Downloads\\\\output.apkg')\n",
    "keyboard.press(Key.enter)"
   ]
  },
  {
   "cell_type": "code",
   "execution_count": 17,
   "metadata": {},
   "outputs": [],
   "source": [
    "# xpath_uploadfilebutton = '/html/body/div[7]/div/div[2]/div/div/div[2]/div[2]/div[2]/div/div[2]/div[3]/div/div/div/div'\n",
    "# uploadfilebutton = browser.find_element(By.XPATH, xpath_uploadfilebutton)\n",
    "# uploadfilebutton.click()"
   ]
  }
 ],
 "metadata": {
  "kernelspec": {
   "display_name": "base",
   "language": "python",
   "name": "python3"
  },
  "language_info": {
   "codemirror_mode": {
    "name": "ipython",
    "version": 3
   },
   "file_extension": ".py",
   "mimetype": "text/x-python",
   "name": "python",
   "nbconvert_exporter": "python",
   "pygments_lexer": "ipython3",
   "version": "3.11.5"
  }
 },
 "nbformat": 4,
 "nbformat_minor": 2
}
